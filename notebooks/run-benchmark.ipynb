{
 "cells": [
  {
   "cell_type": "code",
   "execution_count": 1,
   "id": "e5c41432-8ee0-4fbb-b37b-4eea92504382",
   "metadata": {},
   "outputs": [],
   "source": [
    "from pathlib import Path\n",
    "\n",
    "import torch\n",
    "import numpy as np\n",
    "import pandas as pd"
   ]
  },
  {
   "cell_type": "code",
   "execution_count": 2,
   "id": "7a4b1e7f-a893-488e-96f1-4094857115f2",
   "metadata": {},
   "outputs": [],
   "source": [
    "import logging\n",
    "logging.getLogger().setLevel(logging.INFO)"
   ]
  },
  {
   "cell_type": "markdown",
   "id": "04d5e737-9b3c-468a-bd68-b1c161f57c84",
   "metadata": {},
   "source": [
    "## Set important local paths"
   ]
  },
  {
   "cell_type": "markdown",
   "id": "1cf6dfe9-4ddc-448f-afb9-0e4802ae480d",
   "metadata": {},
   "source": [
    "Set your root directory:"
   ]
  },
  {
   "cell_type": "code",
   "execution_count": 3,
   "id": "048f506d-83a6-4911-b5f3-2fc290ed9fd8",
   "metadata": {},
   "outputs": [
    {
     "data": {
      "text/plain": [
       "PosixPath('/Users/acruz')"
      ]
     },
     "execution_count": 3,
     "metadata": {},
     "output_type": "execute_result"
    }
   ],
   "source": [
    "ROOT_DIR = Path(\"~\").expanduser().resolve()\n",
    "# ROOT_DIR = Path(\"/fast/groups/sf\")    # Path to cluster dir\n",
    "ROOT_DIR"
   ]
  },
  {
   "cell_type": "markdown",
   "id": "0cb6c30e-5af1-4733-8732-788cba086eaf",
   "metadata": {},
   "source": [
    "Directory where LLMs are saved:"
   ]
  },
  {
   "cell_type": "code",
   "execution_count": 4,
   "id": "a7e60a72-e0c4-4fa8-a5d5-402f82098872",
   "metadata": {},
   "outputs": [],
   "source": [
    "MODELS_DIR = ROOT_DIR / \"huggingface-models\""
   ]
  },
  {
   "cell_type": "markdown",
   "id": "efbc677d-5208-4a8a-aab8-9cb7282ca39f",
   "metadata": {},
   "source": [
    "Directory where data is saved (or will be saved to):"
   ]
  },
  {
   "cell_type": "code",
   "execution_count": 5,
   "id": "8040b3cd-da53-4b62-8aae-58b2bb7cba69",
   "metadata": {},
   "outputs": [],
   "source": [
    "DATA_DIR = ROOT_DIR / \"data\""
   ]
  },
  {
   "cell_type": "markdown",
   "id": "985344ec-6c9c-4e8b-8d8e-26f009937a7c",
   "metadata": {},
   "source": [
    "Other configs:"
   ]
  },
  {
   "cell_type": "code",
   "execution_count": 6,
   "id": "a4316d94-110f-4014-a823-95300ac87eb8",
   "metadata": {},
   "outputs": [],
   "source": [
    "MODEL_NAME = \"google/gemma-2b\"\n",
    "# MODEL_NAME = \"meta-llama/Meta-Llama-3-8B\"\n",
    "# MODEL_NAME = \"meta-llama/Meta-Llama-3-8B-Instruct\"\n",
    "\n",
    "TASK_NAME = \"ACSIncome\"\n",
    "\n",
    "RESULTS_ROOT_DIR = ROOT_DIR / \"folktexts-results\"\n",
    "\n",
    "DEVICE = \"cuda\" if torch.cuda.is_available() else \"mps\""
   ]
  },
  {
   "cell_type": "code",
   "execution_count": 7,
   "id": "7e0f598d-dd37-471f-a0d4-4b3c1ae07167",
   "metadata": {},
   "outputs": [
    {
     "name": "stderr",
     "output_type": "stream",
     "text": [
      "INFO:root:Loading model '/Users/acruz/huggingface-models/google--gemma-2b'\n",
      "Gemma's activation function should be approximate GeLU and not exact GeLU.\n",
      "Changing the activation function to `gelu_pytorch_tanh`.if you want to use the legacy `gelu`, edit the `model.config` to set `hidden_activation=gelu`   instead of `hidden_act`. See https://github.com/huggingface/transformers/pull/29402 for more details.\n"
     ]
    },
    {
     "data": {
      "application/vnd.jupyter.widget-view+json": {
       "model_id": "1ba4879ed0ba4d6fa0c76b6737b6d9b0",
       "version_major": 2,
       "version_minor": 0
      },
      "text/plain": [
       "Loading checkpoint shards:   0%|          | 0/3 [00:00<?, ?it/s]"
      ]
     },
     "metadata": {},
     "output_type": "display_data"
    },
    {
     "name": "stderr",
     "output_type": "stream",
     "text": [
      "INFO:root:Moving model to device: mps\n"
     ]
    }
   ],
   "source": [
    "from folktexts.llm_utils import load_model_tokenizer, get_model_folder_path\n",
    "model_folder_path = get_model_folder_path(model_name=MODEL_NAME, root_dir=MODELS_DIR)\n",
    "model, tokenizer = load_model_tokenizer(model_folder_path)"
   ]
  },
  {
   "cell_type": "code",
   "execution_count": 8,
   "id": "ab088b1f-37ba-4d2e-b5d2-b829787b7fed",
   "metadata": {},
   "outputs": [
    {
     "data": {
      "text/plain": [
       "PosixPath('/Users/acruz/folktexts-results/google--gemma-2b')"
      ]
     },
     "execution_count": 8,
     "metadata": {},
     "output_type": "execute_result"
    }
   ],
   "source": [
    "results_dir = RESULTS_ROOT_DIR / Path(model_folder_path).name\n",
    "results_dir.mkdir(exist_ok=True, parents=True)\n",
    "results_dir"
   ]
  },
  {
   "cell_type": "markdown",
   "id": "2d87da67-3857-421f-b761-81814ea5498d",
   "metadata": {},
   "source": [
    "### Construct LLM Classifier"
   ]
  },
  {
   "cell_type": "markdown",
   "id": "e664c322-4da5-49b3-a755-3ba0a075ee64",
   "metadata": {},
   "source": [
    "Load prediction task (which maps tabular data to text):"
   ]
  },
  {
   "cell_type": "code",
   "execution_count": 9,
   "id": "7f0b725d-d97a-40a9-a71d-88fb5fefbddf",
   "metadata": {},
   "outputs": [],
   "source": [
    "from folktexts.acs import ACSTaskMetadata\n",
    "task = ACSTaskMetadata.get_task(TASK_NAME)"
   ]
  },
  {
   "cell_type": "code",
   "execution_count": 10,
   "id": "0cfa6291-5c06-4618-a14d-86e49f2f4969",
   "metadata": {},
   "outputs": [],
   "source": [
    "from folktexts.classifier import LLMClassifier\n",
    "llm_clf = LLMClassifier(\n",
    "    model=model,\n",
    "    tokenizer=tokenizer,\n",
    "    task=task,\n",
    "    batch_size=16,\n",
    ")"
   ]
  },
  {
   "cell_type": "markdown",
   "id": "53f969d6-9d0e-48c2-9b34-a57aef0edb5c",
   "metadata": {},
   "source": [
    "### Load Dataset"
   ]
  },
  {
   "cell_type": "code",
   "execution_count": 11,
   "id": "820004cb-25ce-4802-85c3-6ab251881141",
   "metadata": {},
   "outputs": [
    {
     "name": "stdout",
     "output_type": "stream",
     "text": [
      "Loading ACS data...\n",
      "CPU times: user 33.8 s, sys: 8.86 s, total: 42.7 s\n",
      "Wall time: 43.1 s\n"
     ]
    }
   ],
   "source": [
    "%%time\n",
    "from folktexts.acs import ACSDataset\n",
    "dataset = ACSDataset(task=task, cache_dir=DATA_DIR)"
   ]
  },
  {
   "cell_type": "markdown",
   "id": "8145eddd-09da-4db9-8779-c61b04c3d777",
   "metadata": {},
   "source": [
    "Optionally, subsample to quickly get approximate results:"
   ]
  },
  {
   "cell_type": "code",
   "execution_count": 12,
   "id": "c977cac3-162c-4cde-8594-e6795f62e29a",
   "metadata": {},
   "outputs": [
    {
     "name": "stderr",
     "output_type": "stream",
     "text": [
      "INFO:root:Subsampled dataset to 1.0% of the original size. Train size: 14981, Test size: 1665, Val size: 0;\n"
     ]
    },
    {
     "name": "stdout",
     "output_type": "stream",
     "text": [
      "dataset.subsampling=0.01\n"
     ]
    }
   ],
   "source": [
    "dataset = dataset.subsample(0.01)\n",
    "print(f\"{dataset.subsampling=}\")"
   ]
  },
  {
   "cell_type": "markdown",
   "id": "a3b4ce61-ecbc-4491-bd7b-0cfae38c6c10",
   "metadata": {},
   "source": [
    "### Load and run ACS Benchmark\n",
    "\n",
    "**_Note:_** Helper constructors exist at `CalibrationBenchmark.make_acs_benchmark` and `CalibrationBenchmark.make_benchmark` that avoid the above boilerplate code."
   ]
  },
  {
   "cell_type": "code",
   "execution_count": 13,
   "id": "10d362b6-aac8-49dd-84c3-0ce799ffabba",
   "metadata": {},
   "outputs": [
    {
     "name": "stderr",
     "output_type": "stream",
     "text": [
      "INFO:root:\n",
      "** Benchmark initialization **\n",
      "Model: google--gemma-2b;\n",
      "Task: ACSIncome;\n",
      "Results dir: /Users/acruz/folktexts-results/google--gemma-2b/google--gemma-2b_bench-1971313738;\n",
      "Hash: 1971313738;\n",
      "\n"
     ]
    }
   ],
   "source": [
    "from folktexts.benchmark import CalibrationBenchmark, BenchmarkConfig\n",
    "\n",
    "bench = CalibrationBenchmark(\n",
    "    llm_clf=llm_clf,\n",
    "    dataset=dataset,\n",
    "    results_dir=results_dir,\n",
    "    config=BenchmarkConfig.default_config(),\n",
    ")"
   ]
  },
  {
   "cell_type": "markdown",
   "id": "e107c703-17d4-4543-8f56-73c7b9583589",
   "metadata": {},
   "source": [
    "Optionally, you can fit the model's threshold on a few data samples.\n",
    "\n",
    "This is generally quite fast as it is _not fine-tuning_; it only changes one parameter: the `llm_clf.threshold`."
   ]
  },
  {
   "cell_type": "code",
   "execution_count": 14,
   "id": "16f88399-1b9e-4fd3-a1ca-0aa9f2b91080",
   "metadata": {},
   "outputs": [
    {
     "data": {
      "application/vnd.jupyter.widget-view+json": {
       "model_id": "3031a903a168491f81eb22b827a398e6",
       "version_major": 2,
       "version_minor": 0
      },
      "text/plain": [
       "Computing risk estimates:   0%|          | 0/7 [00:00<?, ?it/s]"
      ]
     },
     "metadata": {},
     "output_type": "display_data"
    },
    {
     "name": "stderr",
     "output_type": "stream",
     "text": [
      "INFO:root:Set threshold to 0.49806201550387597.\n"
     ]
    },
    {
     "name": "stdout",
     "output_type": "stream",
     "text": [
      "CPU times: user 1.72 s, sys: 833 ms, total: 2.55 s\n",
      "Wall time: 22.2 s\n"
     ]
    },
    {
     "data": {
      "text/html": [
       "<style>#sk-container-id-1 {\n",
       "  /* Definition of color scheme common for light and dark mode */\n",
       "  --sklearn-color-text: black;\n",
       "  --sklearn-color-line: gray;\n",
       "  /* Definition of color scheme for unfitted estimators */\n",
       "  --sklearn-color-unfitted-level-0: #fff5e6;\n",
       "  --sklearn-color-unfitted-level-1: #f6e4d2;\n",
       "  --sklearn-color-unfitted-level-2: #ffe0b3;\n",
       "  --sklearn-color-unfitted-level-3: chocolate;\n",
       "  /* Definition of color scheme for fitted estimators */\n",
       "  --sklearn-color-fitted-level-0: #f0f8ff;\n",
       "  --sklearn-color-fitted-level-1: #d4ebff;\n",
       "  --sklearn-color-fitted-level-2: #b3dbfd;\n",
       "  --sklearn-color-fitted-level-3: cornflowerblue;\n",
       "\n",
       "  /* Specific color for light theme */\n",
       "  --sklearn-color-text-on-default-background: var(--sg-text-color, var(--theme-code-foreground, var(--jp-content-font-color1, black)));\n",
       "  --sklearn-color-background: var(--sg-background-color, var(--theme-background, var(--jp-layout-color0, white)));\n",
       "  --sklearn-color-border-box: var(--sg-text-color, var(--theme-code-foreground, var(--jp-content-font-color1, black)));\n",
       "  --sklearn-color-icon: #696969;\n",
       "\n",
       "  @media (prefers-color-scheme: dark) {\n",
       "    /* Redefinition of color scheme for dark theme */\n",
       "    --sklearn-color-text-on-default-background: var(--sg-text-color, var(--theme-code-foreground, var(--jp-content-font-color1, white)));\n",
       "    --sklearn-color-background: var(--sg-background-color, var(--theme-background, var(--jp-layout-color0, #111)));\n",
       "    --sklearn-color-border-box: var(--sg-text-color, var(--theme-code-foreground, var(--jp-content-font-color1, white)));\n",
       "    --sklearn-color-icon: #878787;\n",
       "  }\n",
       "}\n",
       "\n",
       "#sk-container-id-1 {\n",
       "  color: var(--sklearn-color-text);\n",
       "}\n",
       "\n",
       "#sk-container-id-1 pre {\n",
       "  padding: 0;\n",
       "}\n",
       "\n",
       "#sk-container-id-1 input.sk-hidden--visually {\n",
       "  border: 0;\n",
       "  clip: rect(1px 1px 1px 1px);\n",
       "  clip: rect(1px, 1px, 1px, 1px);\n",
       "  height: 1px;\n",
       "  margin: -1px;\n",
       "  overflow: hidden;\n",
       "  padding: 0;\n",
       "  position: absolute;\n",
       "  width: 1px;\n",
       "}\n",
       "\n",
       "#sk-container-id-1 div.sk-dashed-wrapped {\n",
       "  border: 1px dashed var(--sklearn-color-line);\n",
       "  margin: 0 0.4em 0.5em 0.4em;\n",
       "  box-sizing: border-box;\n",
       "  padding-bottom: 0.4em;\n",
       "  background-color: var(--sklearn-color-background);\n",
       "}\n",
       "\n",
       "#sk-container-id-1 div.sk-container {\n",
       "  /* jupyter's `normalize.less` sets `[hidden] { display: none; }`\n",
       "     but bootstrap.min.css set `[hidden] { display: none !important; }`\n",
       "     so we also need the `!important` here to be able to override the\n",
       "     default hidden behavior on the sphinx rendered scikit-learn.org.\n",
       "     See: https://github.com/scikit-learn/scikit-learn/issues/21755 */\n",
       "  display: inline-block !important;\n",
       "  position: relative;\n",
       "}\n",
       "\n",
       "#sk-container-id-1 div.sk-text-repr-fallback {\n",
       "  display: none;\n",
       "}\n",
       "\n",
       "div.sk-parallel-item,\n",
       "div.sk-serial,\n",
       "div.sk-item {\n",
       "  /* draw centered vertical line to link estimators */\n",
       "  background-image: linear-gradient(var(--sklearn-color-text-on-default-background), var(--sklearn-color-text-on-default-background));\n",
       "  background-size: 2px 100%;\n",
       "  background-repeat: no-repeat;\n",
       "  background-position: center center;\n",
       "}\n",
       "\n",
       "/* Parallel-specific style estimator block */\n",
       "\n",
       "#sk-container-id-1 div.sk-parallel-item::after {\n",
       "  content: \"\";\n",
       "  width: 100%;\n",
       "  border-bottom: 2px solid var(--sklearn-color-text-on-default-background);\n",
       "  flex-grow: 1;\n",
       "}\n",
       "\n",
       "#sk-container-id-1 div.sk-parallel {\n",
       "  display: flex;\n",
       "  align-items: stretch;\n",
       "  justify-content: center;\n",
       "  background-color: var(--sklearn-color-background);\n",
       "  position: relative;\n",
       "}\n",
       "\n",
       "#sk-container-id-1 div.sk-parallel-item {\n",
       "  display: flex;\n",
       "  flex-direction: column;\n",
       "}\n",
       "\n",
       "#sk-container-id-1 div.sk-parallel-item:first-child::after {\n",
       "  align-self: flex-end;\n",
       "  width: 50%;\n",
       "}\n",
       "\n",
       "#sk-container-id-1 div.sk-parallel-item:last-child::after {\n",
       "  align-self: flex-start;\n",
       "  width: 50%;\n",
       "}\n",
       "\n",
       "#sk-container-id-1 div.sk-parallel-item:only-child::after {\n",
       "  width: 0;\n",
       "}\n",
       "\n",
       "/* Serial-specific style estimator block */\n",
       "\n",
       "#sk-container-id-1 div.sk-serial {\n",
       "  display: flex;\n",
       "  flex-direction: column;\n",
       "  align-items: center;\n",
       "  background-color: var(--sklearn-color-background);\n",
       "  padding-right: 1em;\n",
       "  padding-left: 1em;\n",
       "}\n",
       "\n",
       "\n",
       "/* Toggleable style: style used for estimator/Pipeline/ColumnTransformer box that is\n",
       "clickable and can be expanded/collapsed.\n",
       "- Pipeline and ColumnTransformer use this feature and define the default style\n",
       "- Estimators will overwrite some part of the style using the `sk-estimator` class\n",
       "*/\n",
       "\n",
       "/* Pipeline and ColumnTransformer style (default) */\n",
       "\n",
       "#sk-container-id-1 div.sk-toggleable {\n",
       "  /* Default theme specific background. It is overwritten whether we have a\n",
       "  specific estimator or a Pipeline/ColumnTransformer */\n",
       "  background-color: var(--sklearn-color-background);\n",
       "}\n",
       "\n",
       "/* Toggleable label */\n",
       "#sk-container-id-1 label.sk-toggleable__label {\n",
       "  cursor: pointer;\n",
       "  display: block;\n",
       "  width: 100%;\n",
       "  margin-bottom: 0;\n",
       "  padding: 0.5em;\n",
       "  box-sizing: border-box;\n",
       "  text-align: center;\n",
       "}\n",
       "\n",
       "#sk-container-id-1 label.sk-toggleable__label-arrow:before {\n",
       "  /* Arrow on the left of the label */\n",
       "  content: \"▸\";\n",
       "  float: left;\n",
       "  margin-right: 0.25em;\n",
       "  color: var(--sklearn-color-icon);\n",
       "}\n",
       "\n",
       "#sk-container-id-1 label.sk-toggleable__label-arrow:hover:before {\n",
       "  color: var(--sklearn-color-text);\n",
       "}\n",
       "\n",
       "/* Toggleable content - dropdown */\n",
       "\n",
       "#sk-container-id-1 div.sk-toggleable__content {\n",
       "  max-height: 0;\n",
       "  max-width: 0;\n",
       "  overflow: hidden;\n",
       "  text-align: left;\n",
       "  /* unfitted */\n",
       "  background-color: var(--sklearn-color-unfitted-level-0);\n",
       "}\n",
       "\n",
       "#sk-container-id-1 div.sk-toggleable__content.fitted {\n",
       "  /* fitted */\n",
       "  background-color: var(--sklearn-color-fitted-level-0);\n",
       "}\n",
       "\n",
       "#sk-container-id-1 div.sk-toggleable__content pre {\n",
       "  margin: 0.2em;\n",
       "  border-radius: 0.25em;\n",
       "  color: var(--sklearn-color-text);\n",
       "  /* unfitted */\n",
       "  background-color: var(--sklearn-color-unfitted-level-0);\n",
       "}\n",
       "\n",
       "#sk-container-id-1 div.sk-toggleable__content.fitted pre {\n",
       "  /* unfitted */\n",
       "  background-color: var(--sklearn-color-fitted-level-0);\n",
       "}\n",
       "\n",
       "#sk-container-id-1 input.sk-toggleable__control:checked~div.sk-toggleable__content {\n",
       "  /* Expand drop-down */\n",
       "  max-height: 200px;\n",
       "  max-width: 100%;\n",
       "  overflow: auto;\n",
       "}\n",
       "\n",
       "#sk-container-id-1 input.sk-toggleable__control:checked~label.sk-toggleable__label-arrow:before {\n",
       "  content: \"▾\";\n",
       "}\n",
       "\n",
       "/* Pipeline/ColumnTransformer-specific style */\n",
       "\n",
       "#sk-container-id-1 div.sk-label input.sk-toggleable__control:checked~label.sk-toggleable__label {\n",
       "  color: var(--sklearn-color-text);\n",
       "  background-color: var(--sklearn-color-unfitted-level-2);\n",
       "}\n",
       "\n",
       "#sk-container-id-1 div.sk-label.fitted input.sk-toggleable__control:checked~label.sk-toggleable__label {\n",
       "  background-color: var(--sklearn-color-fitted-level-2);\n",
       "}\n",
       "\n",
       "/* Estimator-specific style */\n",
       "\n",
       "/* Colorize estimator box */\n",
       "#sk-container-id-1 div.sk-estimator input.sk-toggleable__control:checked~label.sk-toggleable__label {\n",
       "  /* unfitted */\n",
       "  background-color: var(--sklearn-color-unfitted-level-2);\n",
       "}\n",
       "\n",
       "#sk-container-id-1 div.sk-estimator.fitted input.sk-toggleable__control:checked~label.sk-toggleable__label {\n",
       "  /* fitted */\n",
       "  background-color: var(--sklearn-color-fitted-level-2);\n",
       "}\n",
       "\n",
       "#sk-container-id-1 div.sk-label label.sk-toggleable__label,\n",
       "#sk-container-id-1 div.sk-label label {\n",
       "  /* The background is the default theme color */\n",
       "  color: var(--sklearn-color-text-on-default-background);\n",
       "}\n",
       "\n",
       "/* On hover, darken the color of the background */\n",
       "#sk-container-id-1 div.sk-label:hover label.sk-toggleable__label {\n",
       "  color: var(--sklearn-color-text);\n",
       "  background-color: var(--sklearn-color-unfitted-level-2);\n",
       "}\n",
       "\n",
       "/* Label box, darken color on hover, fitted */\n",
       "#sk-container-id-1 div.sk-label.fitted:hover label.sk-toggleable__label.fitted {\n",
       "  color: var(--sklearn-color-text);\n",
       "  background-color: var(--sklearn-color-fitted-level-2);\n",
       "}\n",
       "\n",
       "/* Estimator label */\n",
       "\n",
       "#sk-container-id-1 div.sk-label label {\n",
       "  font-family: monospace;\n",
       "  font-weight: bold;\n",
       "  display: inline-block;\n",
       "  line-height: 1.2em;\n",
       "}\n",
       "\n",
       "#sk-container-id-1 div.sk-label-container {\n",
       "  text-align: center;\n",
       "}\n",
       "\n",
       "/* Estimator-specific */\n",
       "#sk-container-id-1 div.sk-estimator {\n",
       "  font-family: monospace;\n",
       "  border: 1px dotted var(--sklearn-color-border-box);\n",
       "  border-radius: 0.25em;\n",
       "  box-sizing: border-box;\n",
       "  margin-bottom: 0.5em;\n",
       "  /* unfitted */\n",
       "  background-color: var(--sklearn-color-unfitted-level-0);\n",
       "}\n",
       "\n",
       "#sk-container-id-1 div.sk-estimator.fitted {\n",
       "  /* fitted */\n",
       "  background-color: var(--sklearn-color-fitted-level-0);\n",
       "}\n",
       "\n",
       "/* on hover */\n",
       "#sk-container-id-1 div.sk-estimator:hover {\n",
       "  /* unfitted */\n",
       "  background-color: var(--sklearn-color-unfitted-level-2);\n",
       "}\n",
       "\n",
       "#sk-container-id-1 div.sk-estimator.fitted:hover {\n",
       "  /* fitted */\n",
       "  background-color: var(--sklearn-color-fitted-level-2);\n",
       "}\n",
       "\n",
       "/* Specification for estimator info (e.g. \"i\" and \"?\") */\n",
       "\n",
       "/* Common style for \"i\" and \"?\" */\n",
       "\n",
       ".sk-estimator-doc-link,\n",
       "a:link.sk-estimator-doc-link,\n",
       "a:visited.sk-estimator-doc-link {\n",
       "  float: right;\n",
       "  font-size: smaller;\n",
       "  line-height: 1em;\n",
       "  font-family: monospace;\n",
       "  background-color: var(--sklearn-color-background);\n",
       "  border-radius: 1em;\n",
       "  height: 1em;\n",
       "  width: 1em;\n",
       "  text-decoration: none !important;\n",
       "  margin-left: 1ex;\n",
       "  /* unfitted */\n",
       "  border: var(--sklearn-color-unfitted-level-1) 1pt solid;\n",
       "  color: var(--sklearn-color-unfitted-level-1);\n",
       "}\n",
       "\n",
       ".sk-estimator-doc-link.fitted,\n",
       "a:link.sk-estimator-doc-link.fitted,\n",
       "a:visited.sk-estimator-doc-link.fitted {\n",
       "  /* fitted */\n",
       "  border: var(--sklearn-color-fitted-level-1) 1pt solid;\n",
       "  color: var(--sklearn-color-fitted-level-1);\n",
       "}\n",
       "\n",
       "/* On hover */\n",
       "div.sk-estimator:hover .sk-estimator-doc-link:hover,\n",
       ".sk-estimator-doc-link:hover,\n",
       "div.sk-label-container:hover .sk-estimator-doc-link:hover,\n",
       ".sk-estimator-doc-link:hover {\n",
       "  /* unfitted */\n",
       "  background-color: var(--sklearn-color-unfitted-level-3);\n",
       "  color: var(--sklearn-color-background);\n",
       "  text-decoration: none;\n",
       "}\n",
       "\n",
       "div.sk-estimator.fitted:hover .sk-estimator-doc-link.fitted:hover,\n",
       ".sk-estimator-doc-link.fitted:hover,\n",
       "div.sk-label-container:hover .sk-estimator-doc-link.fitted:hover,\n",
       ".sk-estimator-doc-link.fitted:hover {\n",
       "  /* fitted */\n",
       "  background-color: var(--sklearn-color-fitted-level-3);\n",
       "  color: var(--sklearn-color-background);\n",
       "  text-decoration: none;\n",
       "}\n",
       "\n",
       "/* Span, style for the box shown on hovering the info icon */\n",
       ".sk-estimator-doc-link span {\n",
       "  display: none;\n",
       "  z-index: 9999;\n",
       "  position: relative;\n",
       "  font-weight: normal;\n",
       "  right: .2ex;\n",
       "  padding: .5ex;\n",
       "  margin: .5ex;\n",
       "  width: min-content;\n",
       "  min-width: 20ex;\n",
       "  max-width: 50ex;\n",
       "  color: var(--sklearn-color-text);\n",
       "  box-shadow: 2pt 2pt 4pt #999;\n",
       "  /* unfitted */\n",
       "  background: var(--sklearn-color-unfitted-level-0);\n",
       "  border: .5pt solid var(--sklearn-color-unfitted-level-3);\n",
       "}\n",
       "\n",
       ".sk-estimator-doc-link.fitted span {\n",
       "  /* fitted */\n",
       "  background: var(--sklearn-color-fitted-level-0);\n",
       "  border: var(--sklearn-color-fitted-level-3);\n",
       "}\n",
       "\n",
       ".sk-estimator-doc-link:hover span {\n",
       "  display: block;\n",
       "}\n",
       "\n",
       "/* \"?\"-specific style due to the `<a>` HTML tag */\n",
       "\n",
       "#sk-container-id-1 a.estimator_doc_link {\n",
       "  float: right;\n",
       "  font-size: 1rem;\n",
       "  line-height: 1em;\n",
       "  font-family: monospace;\n",
       "  background-color: var(--sklearn-color-background);\n",
       "  border-radius: 1rem;\n",
       "  height: 1rem;\n",
       "  width: 1rem;\n",
       "  text-decoration: none;\n",
       "  /* unfitted */\n",
       "  color: var(--sklearn-color-unfitted-level-1);\n",
       "  border: var(--sklearn-color-unfitted-level-1) 1pt solid;\n",
       "}\n",
       "\n",
       "#sk-container-id-1 a.estimator_doc_link.fitted {\n",
       "  /* fitted */\n",
       "  border: var(--sklearn-color-fitted-level-1) 1pt solid;\n",
       "  color: var(--sklearn-color-fitted-level-1);\n",
       "}\n",
       "\n",
       "/* On hover */\n",
       "#sk-container-id-1 a.estimator_doc_link:hover {\n",
       "  /* unfitted */\n",
       "  background-color: var(--sklearn-color-unfitted-level-3);\n",
       "  color: var(--sklearn-color-background);\n",
       "  text-decoration: none;\n",
       "}\n",
       "\n",
       "#sk-container-id-1 a.estimator_doc_link.fitted:hover {\n",
       "  /* fitted */\n",
       "  background-color: var(--sklearn-color-fitted-level-3);\n",
       "}\n",
       "</style><div id=\"sk-container-id-1\" class=\"sk-top-container\"><div class=\"sk-text-repr-fallback\"><pre>LLMClassifier(encode_row=functools.partial(&lt;function encode_row_prompt at 0x16c1176a0&gt;, task=ACSTaskMetadata(name=&#x27;ACSIncome&#x27;, description=&quot;predict whether an individual&#x27;s income is above $50,000&quot;, features=[&#x27;AGEP&#x27;, &#x27;COW&#x27;, &#x27;SCHL&#x27;, &#x27;MAR&#x27;, &#x27;OCCP&#x27;, &#x27;POBP&#x27;, &#x27;RELP&#x27;, &#x27;WKHP&#x27;, &#x27;SEX&#x27;, &#x27;RAC1P&#x27;], target=&#x27;PINCP_binary_50000&#x27;, cols_to_text={&#x27;AGEP&#x27;: &lt;folktexts.col_to_text.ColumnToText ob...\n",
       "\t213: AddedToken(&quot;&lt;/s&gt;&quot;, rstrip=False, lstrip=False, single_word=False, normalized=False, special=False),\n",
       "\t214: AddedToken(&quot;&lt;/sub&gt;&quot;, rstrip=False, lstrip=False, single_word=False, normalized=False, special=False),\n",
       "\t215: AddedToken(&quot;&lt;/sup&gt;&quot;, rstrip=False, lstrip=False, single_word=False, normalized=False, special=False),\n",
       "\t216: AddedToken(&quot;&lt;/code&gt;&quot;, rstrip=False, lstrip=False, single_word=False, normalized=False, special=False),\n",
       "})</pre><b>In a Jupyter environment, please rerun this cell to show the HTML representation or trust the notebook. <br />On GitHub, the HTML representation is unable to render, please try loading this page with nbviewer.org.</b></div><div class=\"sk-container\" hidden><div class=\"sk-item\"><div class=\"sk-estimator fitted sk-toggleable\"><input class=\"sk-toggleable__control sk-hidden--visually\" id=\"sk-estimator-id-1\" type=\"checkbox\" checked><label for=\"sk-estimator-id-1\" class=\"sk-toggleable__label fitted sk-toggleable__label-arrow fitted\">&nbsp;LLMClassifier<span class=\"sk-estimator-doc-link fitted\">i<span>Fitted</span></span></label><div class=\"sk-toggleable__content fitted\"><pre>LLMClassifier(encode_row=functools.partial(&lt;function encode_row_prompt at 0x16c1176a0&gt;, task=ACSTaskMetadata(name=&#x27;ACSIncome&#x27;, description=&quot;predict whether an individual&#x27;s income is above $50,000&quot;, features=[&#x27;AGEP&#x27;, &#x27;COW&#x27;, &#x27;SCHL&#x27;, &#x27;MAR&#x27;, &#x27;OCCP&#x27;, &#x27;POBP&#x27;, &#x27;RELP&#x27;, &#x27;WKHP&#x27;, &#x27;SEX&#x27;, &#x27;RAC1P&#x27;], target=&#x27;PINCP_binary_50000&#x27;, cols_to_text={&#x27;AGEP&#x27;: &lt;folktexts.col_to_text.ColumnToText ob...\n",
       "\t213: AddedToken(&quot;&lt;/s&gt;&quot;, rstrip=False, lstrip=False, single_word=False, normalized=False, special=False),\n",
       "\t214: AddedToken(&quot;&lt;/sub&gt;&quot;, rstrip=False, lstrip=False, single_word=False, normalized=False, special=False),\n",
       "\t215: AddedToken(&quot;&lt;/sup&gt;&quot;, rstrip=False, lstrip=False, single_word=False, normalized=False, special=False),\n",
       "\t216: AddedToken(&quot;&lt;/code&gt;&quot;, rstrip=False, lstrip=False, single_word=False, normalized=False, special=False),\n",
       "})</pre></div> </div></div></div></div>"
      ],
      "text/plain": [
       "LLMClassifier(encode_row=functools.partial(<function encode_row_prompt at 0x16c1176a0>, task=ACSTaskMetadata(name='ACSIncome', description=\"predict whether an individual's income is above $50,000\", features=['AGEP', 'COW', 'SCHL', 'MAR', 'OCCP', 'POBP', 'RELP', 'WKHP', 'SEX', 'RAC1P'], target='PINCP_binary_50000', cols_to_text={'AGEP': <folktexts.col_to_text.ColumnToText ob...\n",
       "\t213: AddedToken(\"</s>\", rstrip=False, lstrip=False, single_word=False, normalized=False, special=False),\n",
       "\t214: AddedToken(\"</sub>\", rstrip=False, lstrip=False, single_word=False, normalized=False, special=False),\n",
       "\t215: AddedToken(\"</sup>\", rstrip=False, lstrip=False, single_word=False, normalized=False, special=False),\n",
       "\t216: AddedToken(\"</code>\", rstrip=False, lstrip=False, single_word=False, normalized=False, special=False),\n",
       "})"
      ]
     },
     "execution_count": 14,
     "metadata": {},
     "output_type": "execute_result"
    }
   ],
   "source": [
    "%%time\n",
    "X_sample, y_sample = dataset.sample_n_train_examples(n=100)\n",
    "llm_clf.fit(X_sample, y_sample)"
   ]
  },
  {
   "cell_type": "markdown",
   "id": "5dcc20d7-732f-450d-b02d-b94c34b41fc8",
   "metadata": {},
   "source": [
    "Run benchmark..."
   ]
  },
  {
   "cell_type": "code",
   "execution_count": 15,
   "id": "4dae3a36-2b7b-473b-916b-35711e985140",
   "metadata": {},
   "outputs": [
    {
     "name": "stderr",
     "output_type": "stream",
     "text": [
      "INFO:root:Test data features shape: (1665, 10)\n"
     ]
    },
    {
     "data": {
      "application/vnd.jupyter.widget-view+json": {
       "model_id": "e1dbb745e32649478fa82347957b4fbf",
       "version_major": 2,
       "version_minor": 0
      },
      "text/plain": [
       "Computing risk estimates:   0%|          | 0/105 [00:00<?, ?it/s]"
      ]
     },
     "metadata": {},
     "output_type": "display_data"
    },
    {
     "name": "stderr",
     "output_type": "stream",
     "text": [
      "WARNING:root:Error in the following division: 0 / 0\n",
      "WARNING:root:Error in the following division: 0 / 0\n",
      "WARNING:root:Error in the following division: 0 / 0\n",
      "WARNING:root:Error in the following division: 0 / 0\n",
      "WARNING:root:Error in the following division: 0 / 0\n",
      "WARNING:root:Error in the following division: 0 / 0\n",
      "WARNING:root:Error in the following division: 0 / 0\n",
      "INFO:root:\n",
      "** Test results **\n",
      "Model balanced accuracy:  64.1%;\n",
      "Model accuracy:           61.4%;\n",
      "Model ROC AUC :           67.3%;\n",
      "\n"
     ]
    },
    {
     "name": "stdout",
     "output_type": "stream",
     "text": [
      "CPU times: user 13.2 s, sys: 1min 9s, total: 1min 22s\n",
      "Wall time: 9min 31s\n"
     ]
    },
    {
     "data": {
      "text/plain": [
       "0.10749160111839026"
      ]
     },
     "execution_count": 15,
     "metadata": {},
     "output_type": "execute_result"
    }
   ],
   "source": [
    "%%time\n",
    "bench.run()"
   ]
  },
  {
   "cell_type": "code",
   "execution_count": 19,
   "id": "4dfbfa5f-a83d-4391-a2d9-afe0431ccd77",
   "metadata": {},
   "outputs": [
    {
     "name": "stderr",
     "output_type": "stream",
     "text": [
      "INFO:root:Skipping group 3 plot as it's too small.\n",
      "INFO:root:Skipping group 4 plot as it's too small.\n",
      "INFO:root:Skipping group 5 plot as it's too small.\n",
      "INFO:root:Skipping group 7 plot as it's too small.\n",
      "WARNING:root:Skipping group 3 plot as it's too small.\n",
      "WARNING:root:Skipping group 4 plot as it's too small.\n",
      "WARNING:root:Skipping group 5 plot as it's too small.\n",
      "WARNING:root:Skipping group 7 plot as it's too small.\n",
      "INFO:root:Saving JSON file to '/Users/acruz/folktexts-results/google--gemma-2b/google--gemma-2b_bench-1971313738/results.bench-3131106163.json'\n",
      "INFO:root:Saved experiment results to '/Users/acruz/folktexts-results/google--gemma-2b/google--gemma-2b_bench-1971313738'\n"
     ]
    },
    {
     "name": "stdout",
     "output_type": "stream",
     "text": [
      "{'accuracy': 0.6144144144144145,\n",
      " 'accuracy_diff': 1.0,\n",
      " 'accuracy_ratio': 0.0,\n",
      " 'balanced_accuracy': 0.6413802870090635,\n",
      " 'balanced_accuracy_diff': 0.6593359488520778,\n",
      " 'balanced_accuracy_ratio': 0.0,\n",
      " 'brier_score_loss': 0.24640440358741766,\n",
      " 'config': {...},\n",
      " 'ece': 0.10749160111839026,\n",
      " 'ece_quantile': 0.11862214134564972,\n",
      " 'equalized_odds_diff': 1.0,\n",
      " 'equalized_odds_ratio': 0.0,\n",
      " 'fnr': 0.21875,\n",
      " 'fnr_diff': 1.0,\n",
      " 'fnr_ratio': 0.0,\n",
      " 'fpr': 0.4984894259818731,\n",
      " 'fpr_diff': 1.0,\n",
      " 'fpr_ratio': 0.0,\n",
      " 'log_loss': 0.6859491970007683,\n",
      " 'model_name': 'google--gemma-2b',\n",
      " 'n_negatives': 993,\n",
      " 'n_positives': 672,\n",
      " 'n_samples': 1665,\n",
      " 'plots': {...},\n",
      " 'ppr': 0.6126126126126126,\n",
      " 'ppr_diff': 1.0,\n",
      " 'ppr_ratio': 0.0,\n",
      " 'precision': 0.5147058823529411,\n",
      " 'precision_diff': 0.65,\n",
      " 'precision_ratio': 0.0,\n",
      " 'predictions_path': '/Users/acruz/folktexts-results/google--gemma-2b/google--gemma-2b_bench-1971313738/ACSIncome_subsampled-0.01_seed-42_hash-1830080098.test_predictions.csv',\n",
      " 'roc_auc': 0.673336869994725,\n",
      " 'threshold': 0.49806201550387597,\n",
      " 'tnr': 0.5015105740181269,\n",
      " 'tnr_diff': 1.0,\n",
      " 'tnr_ratio': 0.0,\n",
      " 'tpr': 0.78125,\n",
      " 'tpr_diff': 1.0,\n",
      " 'tpr_ratio': 0.0}\n"
     ]
    }
   ],
   "source": [
    "bench.plot_results()\n",
    "bench.save_results()\n",
    "from pprint import pprint\n",
    "pprint(bench.results, depth=1)"
   ]
  },
  {
   "cell_type": "markdown",
   "id": "f0b5be1e-4c00-4b48-adf4-3eee02b8d6e1",
   "metadata": {},
   "source": [
    "---"
   ]
  }
 ],
 "metadata": {
  "kernelspec": {
   "display_name": "Python 3 (ipykernel)",
   "language": "python",
   "name": "python3"
  },
  "language_info": {
   "codemirror_mode": {
    "name": "ipython",
    "version": 3
   },
   "file_extension": ".py",
   "mimetype": "text/x-python",
   "name": "python",
   "nbconvert_exporter": "python",
   "pygments_lexer": "ipython3",
   "version": "3.11.8"
  }
 },
 "nbformat": 4,
 "nbformat_minor": 5
}
